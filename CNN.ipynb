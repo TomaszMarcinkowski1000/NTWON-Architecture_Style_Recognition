{
 "cells": [
  {
   "cell_type": "markdown",
   "metadata": {},
   "source": [
    "# Import Libraries"
   ]
  },
  {
   "cell_type": "code",
   "execution_count": 1,
   "metadata": {},
   "outputs": [],
   "source": [
    "import time\n",
    "import math\n",
    "import random\n",
    "\n",
    "import pandas as pd\n",
    "import numpy as np\n",
    "import matplotlib.pyplot as plt\n",
    "import tensorflow as tf\n",
    "import cv2\n",
    "\n",
    "from sklearn.metrics import confusion_matrix\n",
    "from datetime import timedelta\n",
    "\n",
    "import dataset\n",
    "import img_manipulation\n",
    "\n",
    "%matplotlib inline"
   ]
  },
  {
   "cell_type": "markdown",
   "metadata": {},
   "source": [
    "# Configuration"
   ]
  },
  {
   "cell_type": "code",
   "execution_count": 2,
   "metadata": {},
   "outputs": [
    {
     "name": "stdout",
     "output_type": "stream",
     "text": [
      "Classes: 14\n",
      "Achaemenid\n",
      "Ancient\n",
      "Art deco\n",
      "Baroque\n",
      "Byzantine\n",
      "Chinese\n",
      "Indo-islamic\n",
      "Neo\n",
      "Postmodernism\n",
      "Renesans\n",
      "Romanesque\n",
      "Russian Revival\n",
      "Secession\n",
      "Victorian_Quenn Anne\n"
     ]
    }
   ],
   "source": [
    "# paths\n",
    "orginal_folder = \"c:/Users/Tomasz Marcinkowski/Documents/MEGA/Zbiory/Zbior3_koledzy/\"\n",
    "processed_folder = \"c:/Users/Tomasz Marcinkowski/Documents/MEGA/Zbiory/Zbior3_koledzy_transformed/\"\n",
    "checkpoint_dir = \"models/\"\n",
    "\n",
    "# Number of color channels for the images: 1 channel for gray-scale.\n",
    "num_channels = 3\n",
    "\n",
    "# image dimensions (only squares for now)\n",
    "img_size = 224\n",
    "\n",
    "# Size of image when flattened to a single dimension\n",
    "img_size_flat = img_size * img_size * num_channels\n",
    "\n",
    "# Tuple with height and width of images used to reshape arrays.\n",
    "img_shape = (img_size, img_size)\n",
    "\n",
    "# class info\n",
    "classes = dataset.get_classes(orginal_folder)\n",
    "num_classes = len(classes)\n",
    "\n",
    "# batch size\n",
    "batch_size = 32\n",
    "\n",
    "# validation split\n",
    "validation_size = .16\n",
    "\n",
    "# how long to wait after validation loss stops improving before terminating training\n",
    "early_stopping = None  # use None if you don't want to implement early stoping\n",
    "\n",
    "print(\"Classes: {num_classes}\".format(num_classes = num_classes))\n",
    "for key in classes:\n",
    "    print(\"{class_name}\".format(class_name=key))"
   ]
  },
  {
   "cell_type": "markdown",
   "metadata": {},
   "source": [
    "# Image preprocesing\n",
    "Resize and pad image to 224x224"
   ]
  },
  {
   "cell_type": "code",
   "execution_count": 4,
   "metadata": {
    "scrolled": false
   },
   "outputs": [
    {
     "name": "stdout",
     "output_type": "stream",
     "text": [
      "Reading images\n",
      "Processing Achaemenid\n",
      "Processing Ancient\n",
      "Processing Art deco\n",
      "Exception for file:c:/Users/Tomasz Marcinkowski/Documents/MEGA/Zbiory/Zbior3_koledzy/Art deco\\658.jpg\n",
      "Processing Baroque\n",
      "Processing Byzantine\n",
      "Processing Chinese\n",
      "Processing Indo-islamic\n",
      "Processing Neo\n",
      "Exception for file:c:/Users/Tomasz Marcinkowski/Documents/MEGA/Zbiory/Zbior3_koledzy/Neo\\neo-classical-facade-city-hall-lisbon-portugal-praĂ§a-do-municĂ­pio-allegorical-figures-pediment-31432737.jpg\n",
      "Processing Postmodernism\n",
      "Processing Renesans\n",
      "Exception for file:c:/Users/Tomasz Marcinkowski/Documents/MEGA/Zbiory/Zbior3_koledzy/Renesans\\360.jpg\n",
      "Exception for file:c:/Users/Tomasz Marcinkowski/Documents/MEGA/Zbiory/Zbior3_koledzy/Renesans\\652.jpg\n",
      "Processing Romanesque\n",
      "Exception for file:c:/Users/Tomasz Marcinkowski/Documents/MEGA/Zbiory/Zbior3_koledzy/Romanesque\\romanesque-church-saint-martin-located-frĂłmista-province-palencia-castile-leon-spain-was-built-th-century-36123211.jpg\n",
      "Processing Russian Revival\n",
      "Processing Secession\n",
      "Processing Victorian_Quenn Anne\n",
      "Exception for file:c:/Users/Tomasz Marcinkowski/Documents/MEGA/Zbiory/Zbior3_koledzy/Victorian_Quenn Anne\\122.jpg\n",
      "Exception for file:c:/Users/Tomasz Marcinkowski/Documents/MEGA/Zbiory/Zbior3_koledzy/Victorian_Quenn Anne\\176 (2).jpg\n",
      "Exception for file:c:/Users/Tomasz Marcinkowski/Documents/MEGA/Zbiory/Zbior3_koledzy/Victorian_Quenn Anne\\654.jpg\n"
     ]
    }
   ],
   "source": [
    "img_manipulation.resize_and_pad_folder(orginal_folder, processed_folder, (200,200), 127)"
   ]
  },
  {
   "cell_type": "markdown",
   "metadata": {},
   "source": [
    "# Resize Images to 224x224"
   ]
  },
  {
   "cell_type": "code",
   "execution_count": null,
   "metadata": {
    "scrolled": false
   },
   "outputs": [],
   "source": [
    "\n",
    "v_img = cv2.imread('c:\\\\Users\\\\Tomasz Marcinkowski\\\\Documents\\\\MEGA\\\\Zbiory\\\\Zbior3_koledzy\\\\Baroque\\\\0006.jpg')\n",
    "plt.imshow(v_img)\n",
    "plt.title('Before')\n",
    "plt.show()\n",
    "scaled_v_img = img_manipulation.resizeAndPad(v_img, (200,200), 127)\n",
    "plt.imshow(scaled_v_img)\n",
    "plt.title('After')\n",
    "plt.show()"
   ]
  },
  {
   "cell_type": "code",
   "execution_count": null,
   "metadata": {},
   "outputs": [],
   "source": []
  }
 ],
 "metadata": {
  "kernelspec": {
   "display_name": "Python 3",
   "language": "python",
   "name": "python3"
  },
  "language_info": {
   "codemirror_mode": {
    "name": "ipython",
    "version": 3
   },
   "file_extension": ".py",
   "mimetype": "text/x-python",
   "name": "python",
   "nbconvert_exporter": "python",
   "pygments_lexer": "ipython3",
   "version": "3.5.5"
  }
 },
 "nbformat": 4,
 "nbformat_minor": 1
}
