{
 "cells": [
  {
   "cell_type": "markdown",
   "metadata": {},
   "source": [
    "# Set up"
   ]
  },
  {
   "cell_type": "code",
   "execution_count": 1,
   "metadata": {},
   "outputs": [
    {
     "name": "stderr",
     "output_type": "stream",
     "text": [
      "C:\\ProgramFiles2\\Anaconda3\\envs\\tensorflow_gpu\\lib\\site-packages\\h5py\\__init__.py:36: FutureWarning: Conversion of the second argument of issubdtype from `float` to `np.floating` is deprecated. In future, it will be treated as `np.float64 == np.dtype(float).type`.\n",
      "  from ._conv import register_converters as _register_converters\n",
      "Using TensorFlow backend.\n"
     ]
    }
   ],
   "source": [
    "import os\n",
    "import numpy as np\n",
    "import tensorflow as tf\n",
    "import dataHandler\n",
    "import csv\n",
    "import numpy as np\n",
    "import csv\n",
    "import dataHandler\n",
    "import itertools\n",
    "import matplotlib.pyplot as plt\n",
    "import seaborn as sn\n",
    "import pandas as pd\n",
    "import matplotlib.pyplot as plt\n",
    "\n",
    "from urllib.request import urlretrieve\n",
    "from os.path import isfile, isdir\n",
    "from tensorflow_vgg import vgg16\n",
    "from tensorflow_vgg import utils\n",
    "from keras.models import Sequential\n",
    "from keras.layers import Dense, Dropout, Activation\n",
    "from keras.optimizers import Adam\n",
    "from keras.callbacks import LearningRateScheduler\n",
    "from keras import backend as K\n",
    "from keras.callbacks import EarlyStopping\n",
    "from sklearn.model_selection import train_test_split\n",
    "from sklearn.metrics import confusion_matrix\n",
    "\n",
    "%matplotlib inline"
   ]
  },
  {
   "cell_type": "code",
   "execution_count": 2,
   "metadata": {},
   "outputs": [],
   "source": [
    "# classes=['Achaemenid', 'Ancient', 'Art deco', 'Baroque', 'Byzantine', 'Chinese', 'Indo-islamic', 'Neoclassical', 'Postmodernism', 'Renesans', 'Romanesque', 'Russian Revival', 'Secession', 'Victorian + Quenn anne']\n",
    "classes=['Ancient', 'Byzantine', 'Chinese', 'Postmodernism', 'Russian Revival', 'Victorian + Quenn anne']\n",
    "batch_size = 100\n",
    "main_path='c:\\\\Users\\\\Tomasz Marcinkowski\\\\Documents\\\\MEGA\\\\Zbiory\\\\Zbior4_final_tr2\\\\'\n",
    "data_dir_train = os.path.join(main_path, 'Train\\\\')\n",
    "data_dir_test = os.path.join(main_path, 'Test\\\\')\n",
    "data_dir_valid = os.path.join(main_path, 'Valid\\\\')"
   ]
  },
  {
   "cell_type": "code",
   "execution_count": 3,
   "metadata": {},
   "outputs": [
    {
     "data": {
      "text/plain": [
       "['Ancient',\n",
       " 'Byzantine',\n",
       " 'Chinese',\n",
       " 'Postmodernism',\n",
       " 'Russian Revival',\n",
       " 'Victorian + Quenn anne']"
      ]
     },
     "execution_count": 3,
     "metadata": {},
     "output_type": "execute_result"
    }
   ],
   "source": [
    "contents = os.listdir(data_dir_train)\n",
    "# classes = [each for each in contents if os.path.isdir(os.path.join(data_dir_train, each))]\n",
    "classes"
   ]
  },
  {
   "cell_type": "code",
   "execution_count": 4,
   "metadata": {},
   "outputs": [],
   "source": [
    "def createTransferCodes(data_dir, sufix):\n",
    "    # Create transfer codes for each image and store in files 'codes, labels'\n",
    "    batch_size = 10\n",
    "    codes_list = []\n",
    "    labels = []\n",
    "    batch = []\n",
    "\n",
    "    codes = None\n",
    "\n",
    "    print('_'*50)\n",
    "    print('Creating transfer codes:')\n",
    "    print('_'*50)\n",
    "\n",
    "    #with tf.Session() as sess:\n",
    "    with tf.Session() as sess:\n",
    "        vgg = vgg16.Vgg16()\n",
    "        input_ = tf.placeholder(tf.float32, [None, 224, 224, 3])\n",
    "        with tf.name_scope(\"content_vgg\"):\n",
    "            vgg.build(input_)\n",
    "\n",
    "        for each in classes:\n",
    "            print(\"Starting {} images\".format(each))\n",
    "            class_path = data_dir + each\n",
    "            files = os.listdir(class_path)\n",
    "            for ii, file in enumerate(files, 1):\n",
    "\n",
    "                # Add images to the current batch\n",
    "                img = utils.load_image(os.path.join(class_path, file))\n",
    "                batch.append(img.reshape((1, 224, 224, 3)))\n",
    "                labels.append(each)\n",
    "\n",
    "                # Running the batch through the network to get the codes\n",
    "                if ii % batch_size == 0 or ii == len(files):\n",
    "\n",
    "                    # Image batch to pass to VGG network\n",
    "                    images = np.concatenate(batch)\n",
    "\n",
    "                    # Get the values from the relu6 layer of the VGG network\n",
    "                    feed_dict = {input_: images}\n",
    "                    codes_batch = sess.run(vgg.relu6, feed_dict=feed_dict)\n",
    "\n",
    "                    # store the codes in an array\n",
    "                    if codes is None:\n",
    "                        codes = codes_batch\n",
    "                    else:\n",
    "                        codes = np.concatenate((codes, codes_batch))\n",
    "\n",
    "                    # Reset to start building the next batch\n",
    "                    batch = []\n",
    "                    print('{} images processed'.format(ii))\n",
    "\n",
    "    # -----------------------------------------------------------\n",
    "    # store codes locally\n",
    "    with open('codes' + sufix, 'w') as f:\n",
    "        codes.tofile(f)\n",
    "        print('Transfer codes saved to file \"codes\" in project directory')\n",
    "\n",
    "    # store labels locally\n",
    "    with open('labels' + sufix, 'w') as f:\n",
    "        writer = csv.writer(f, delimiter='\\n')\n",
    "        writer.writerow(labels)\n",
    "        print('labels saved to file \"labels\" in project directory')"
   ]
  },
  {
   "cell_type": "code",
   "execution_count": null,
   "metadata": {
    "scrolled": true
   },
   "outputs": [],
   "source": [
    "createTransferCodes(data_dir_train, '_train')"
   ]
  },
  {
   "cell_type": "code",
   "execution_count": null,
   "metadata": {},
   "outputs": [],
   "source": [
    "createTransferCodes(data_dir_test, '_test')"
   ]
  },
  {
   "cell_type": "code",
   "execution_count": null,
   "metadata": {
    "scrolled": true
   },
   "outputs": [],
   "source": [
    "createTransferCodes(data_dir_valid, '_valid')"
   ]
  },
  {
   "cell_type": "code",
   "execution_count": 5,
   "metadata": {},
   "outputs": [],
   "source": [
    "# def plot_confusion_matrix(cm, classes,\n",
    "#                           normalize=False,\n",
    "#                           title='Confusion matrix',\n",
    "#                           cmap=plt.cm.Blues):\n",
    "#     \"\"\"\n",
    "#     This function prints and plots the confusion matrix.\n",
    "#     Normalization can be applied by setting `normalize=True`.\n",
    "#     \"\"\"\n",
    "#     plt.imshow(cm, interpolation='nearest', cmap=cmap)\n",
    "#     plt.title(title)\n",
    "#     plt.colorbar()\n",
    "#     tick_marks = np.arange(len(classes))\n",
    "#     plt.xticks(tick_marks, classes, rotation=90)\n",
    "#     plt.yticks(tick_marks, classes)\n",
    "\n",
    "#     if normalize:\n",
    "#         cm = cm.astype('float') / cm.sum(axis=1)[:, np.newaxis]\n",
    "#         print(\"Normalized confusion matrix\")\n",
    "#     else:\n",
    "#         print('Confusion matrix, without normalization')\n",
    "\n",
    "#     print(cm)\n",
    "\n",
    "#     thresh = cm.max() / 2.\n",
    "#     for i, j in itertools.product(range(cm.shape[0]), range(cm.shape[1])):\n",
    "#         plt.text(j, i, cm[i, j],\n",
    "#                  horizontalalignment=\"center\",\n",
    "#                  color=\"white\" if cm[i, j] > thresh else \"black\")\n",
    "\n",
    "# #     plt.tight_layout()\n",
    "#     plt.ylabel('Prawdziwe klasy')\n",
    "#     plt.xlabel('Przewidziane klasy')"
   ]
  },
  {
   "cell_type": "code",
   "execution_count": 6,
   "metadata": {},
   "outputs": [],
   "source": [
    "def plot_model_history(model_history):\n",
    "    fig, axs = plt.subplots(1,2,figsize=(15,5))\n",
    "    # summarize history for accuracy\n",
    "    axs[0].plot(range(1,len(model_history.history['acc'])+1),model_history.history['acc'])\n",
    "    axs[0].plot(range(1,len(model_history.history['val_acc'])+1),model_history.history['val_acc'])\n",
    "    axs[0].set_title('Model Accuracy')\n",
    "    axs[0].set_ylabel('Accuracy')\n",
    "    axs[0].set_xlabel('Epoch')\n",
    "    axs[0].set_xticks(np.arange(1,len(model_history.history['acc'])+1),len(model_history.history['acc'])/10)\n",
    "    axs[0].legend(['train', 'val'], loc='best')\n",
    "    # summarize history for loss\n",
    "    axs[1].plot(range(1,len(model_history.history['loss'])+1),model_history.history['loss'])\n",
    "    axs[1].plot(range(1,len(model_history.history['val_loss'])+1),model_history.history['val_loss'])\n",
    "    axs[1].set_title('Model Loss')\n",
    "    axs[1].set_ylabel('Loss')\n",
    "    axs[1].set_xlabel('Epoch')\n",
    "    axs[1].set_xticks(np.arange(1,len(model_history.history['loss'])+1),len(model_history.history['loss'])/10)\n",
    "    axs[1].legend(['train', 'val'], loc='best')\n",
    "    plt.show()"
   ]
  },
  {
   "cell_type": "code",
   "execution_count": 7,
   "metadata": {},
   "outputs": [],
   "source": [
    "EPOCHS = 100\n",
    "optimizer = Adam(lr=0.01)"
   ]
  },
  {
   "cell_type": "code",
   "execution_count": 8,
   "metadata": {},
   "outputs": [],
   "source": [
    "def loadLabelsAndCodes(lab_file, codes_file):\n",
    "    with open(lab_file) as f:\n",
    "        reader = csv.reader(f, delimiter='\\n')\n",
    "        labels = np.array([each for each in reader]).squeeze()\n",
    "        labels = labels[:-1]\n",
    "        print('loaded labels', labels.shape)\n",
    "\n",
    "    with open(codes_file) as f:\n",
    "        codes = np.fromfile(f, dtype=np.float32)\n",
    "        codes = codes.reshape((len(labels), -1))\n",
    "        print('loaded codes', codes.shape)\n",
    "    return labels, codes"
   ]
  },
  {
   "cell_type": "code",
   "execution_count": 9,
   "metadata": {},
   "outputs": [],
   "source": [
    "codes_sub_folder = 'Method4_Codes'"
   ]
  },
  {
   "cell_type": "code",
   "execution_count": 10,
   "metadata": {
    "scrolled": true
   },
   "outputs": [
    {
     "name": "stdout",
     "output_type": "stream",
     "text": [
      "loaded labels (4418,)\n",
      "loaded codes (4418, 4096)\n"
     ]
    }
   ],
   "source": [
    "labels_train, codes_train = loadLabelsAndCodes(codes_sub_folder + '/labels_train', codes_sub_folder + '/codes_train')"
   ]
  },
  {
   "cell_type": "code",
   "execution_count": 11,
   "metadata": {},
   "outputs": [
    {
     "name": "stdout",
     "output_type": "stream",
     "text": [
      "loaded labels (915,)\n",
      "loaded codes (915, 4096)\n"
     ]
    }
   ],
   "source": [
    "labels_test, codes_test = loadLabelsAndCodes(codes_sub_folder + '/labels_test', codes_sub_folder + '/codes_test')"
   ]
  },
  {
   "cell_type": "code",
   "execution_count": 12,
   "metadata": {},
   "outputs": [
    {
     "name": "stdout",
     "output_type": "stream",
     "text": [
      "loaded labels (777,)\n",
      "loaded codes (777, 4096)\n"
     ]
    }
   ],
   "source": [
    "labels_valid, codes_valid = loadLabelsAndCodes(codes_sub_folder + '/labels_valid', codes_sub_folder + '/codes_valid')"
   ]
  },
  {
   "cell_type": "code",
   "execution_count": 13,
   "metadata": {},
   "outputs": [],
   "source": [
    "def encode(labels, codes):\n",
    "    labels, classes = dataHandler.one_hot_encode(labels)\n",
    "    X_train, X_test, y_train, y_test = train_test_split(codes, labels, test_size=0.0, random_state=42)\n",
    "    X_train = X_train.astype('float32')\n",
    "    print('X shape', X_train.shape)\n",
    "    print('y shape', y_train.shape)\n",
    "    return X_train, y_train"
   ]
  },
  {
   "cell_type": "code",
   "execution_count": 14,
   "metadata": {
    "scrolled": true
   },
   "outputs": [
    {
     "name": "stdout",
     "output_type": "stream",
     "text": [
      "labels ['Ancient', 'Byzantine', 'Chinese', 'Postmodernism', 'Russian Revival', 'Victorian + Quenn anne']\n",
      "X shape (4418, 4096)\n",
      "y shape (4418, 6)\n"
     ]
    }
   ],
   "source": [
    "X_train, y_train = encode(labels_train, codes_train)"
   ]
  },
  {
   "cell_type": "code",
   "execution_count": 15,
   "metadata": {},
   "outputs": [
    {
     "name": "stdout",
     "output_type": "stream",
     "text": [
      "labels ['Ancient', 'Byzantine', 'Chinese', 'Postmodernism', 'Russian Revival', 'Victorian + Quenn anne']\n",
      "X shape (915, 4096)\n",
      "y shape (915, 6)\n"
     ]
    }
   ],
   "source": [
    "X_test, y_test = encode(labels_test, codes_test)"
   ]
  },
  {
   "cell_type": "code",
   "execution_count": 16,
   "metadata": {
    "scrolled": true
   },
   "outputs": [
    {
     "name": "stdout",
     "output_type": "stream",
     "text": [
      "labels ['Ancient', 'Byzantine', 'Chinese', 'Postmodernism', 'Russian Revival', 'Victorian + Quenn anne']\n",
      "X shape (777, 4096)\n",
      "y shape (777, 6)\n"
     ]
    }
   ],
   "source": [
    "X_valid, y_valid = encode(labels_valid, codes_valid)"
   ]
  },
  {
   "cell_type": "code",
   "execution_count": 17,
   "metadata": {},
   "outputs": [],
   "source": [
    "# --------------------------------------------------------------\n",
    "lr_scheduler = LearningRateScheduler(dataHandler.scheduler)\n",
    "K.set_image_dim_ordering('th')\n",
    "\n",
    "# create model\n",
    "model = Sequential()\n",
    "model.add(Dense(512, input_shape=(4096,)))\n",
    "model.add(Activation('relu'))\n",
    "model.add(Dropout(0.5))\n",
    "model.add(Dense(len(classes)))\n",
    "model.add(Activation('softmax'))"
   ]
  },
  {
   "cell_type": "code",
   "execution_count": 18,
   "metadata": {},
   "outputs": [],
   "source": [
    "# define early stopping callback\n",
    "earlystop = EarlyStopping(monitor='val_acc', min_delta=0.0001, patience=5, \\\n",
    "                          verbose=1, mode='auto')\n",
    "callbacks_list = [lr_scheduler, earlystop]\n",
    "# callbacks_list = [lr_scheduler]"
   ]
  },
  {
   "cell_type": "code",
   "execution_count": 19,
   "metadata": {
    "scrolled": false
   },
   "outputs": [
    {
     "name": "stderr",
     "output_type": "stream",
     "text": [
      "C:\\ProgramFiles2\\Anaconda3\\envs\\tensorflow_gpu\\lib\\site-packages\\keras\\models.py:942: UserWarning: The `nb_epoch` argument in `fit` has been renamed `epochs`.\n",
      "  warnings.warn('The `nb_epoch` argument in `fit` '\n"
     ]
    },
    {
     "name": "stdout",
     "output_type": "stream",
     "text": [
      "Train on 4418 samples, validate on 777 samples\n",
      "Epoch 1/100\n",
      "Initial LR set to: 0.001\n",
      "4418/4418 [==============================] - 4s 796us/step - loss: 5.1585 - acc: 0.6263 - val_loss: 4.0687 - val_acc: 0.7091\n",
      "Epoch 2/100\n",
      "4418/4418 [==============================] - 1s 193us/step - loss: 4.1828 - acc: 0.7096 - val_loss: 2.2511 - val_acc: 0.7967\n",
      "Epoch 3/100\n",
      "4418/4418 [==============================] - 1s 190us/step - loss: 1.9643 - acc: 0.8325 - val_loss: 1.8082 - val_acc: 0.8314\n",
      "Epoch 4/100\n",
      "4418/4418 [==============================] - 1s 198us/step - loss: 1.3718 - acc: 0.8687 - val_loss: 1.0704 - val_acc: 0.8752\n",
      "Epoch 5/100\n",
      "4418/4418 [==============================] - 1s 178us/step - loss: 0.7748 - acc: 0.8909 - val_loss: 0.4826 - val_acc: 0.8867\n",
      "Epoch 6/100\n",
      "4418/4418 [==============================] - 1s 185us/step - loss: 0.4484 - acc: 0.9072 - val_loss: 0.4151 - val_acc: 0.8790\n",
      "Epoch 7/100\n",
      "4418/4418 [==============================] - 1s 178us/step - loss: 0.3231 - acc: 0.9140 - val_loss: 0.4319 - val_acc: 0.8842\n",
      "Epoch 8/100\n",
      "4418/4418 [==============================] - 1s 177us/step - loss: 0.2433 - acc: 0.9303 - val_loss: 0.4079 - val_acc: 0.8764\n",
      "Epoch 9/100\n",
      "4418/4418 [==============================] - 1s 182us/step - loss: 0.1947 - acc: 0.9382 - val_loss: 0.4026 - val_acc: 0.8919\n",
      "Epoch 10/100\n",
      "4418/4418 [==============================] - 1s 183us/step - loss: 0.1961 - acc: 0.9396 - val_loss: 0.4409 - val_acc: 0.8945\n",
      "Epoch 11/100\n",
      "LR updated to: 0.001\n",
      "4418/4418 [==============================] - 1s 186us/step - loss: 0.1913 - acc: 0.9368 - val_loss: 0.4489 - val_acc: 0.8790\n",
      "Epoch 12/100\n",
      "4418/4418 [==============================] - 1s 188us/step - loss: 0.1815 - acc: 0.9425 - val_loss: 0.4831 - val_acc: 0.8777\n",
      "Epoch 13/100\n",
      "4418/4418 [==============================] - 1s 185us/step - loss: 0.1574 - acc: 0.9464 - val_loss: 0.4945 - val_acc: 0.8880\n",
      "Epoch 14/100\n",
      "4418/4418 [==============================] - 1s 183us/step - loss: 0.1617 - acc: 0.9495 - val_loss: 0.4440 - val_acc: 0.8945\n",
      "Epoch 15/100\n",
      "4418/4418 [==============================] - 1s 183us/step - loss: 0.1304 - acc: 0.9579 - val_loss: 0.4340 - val_acc: 0.8958\n",
      "Epoch 16/100\n",
      "4418/4418 [==============================] - 1s 183us/step - loss: 0.1211 - acc: 0.9584 - val_loss: 0.5084 - val_acc: 0.8829\n",
      "Epoch 17/100\n",
      "4418/4418 [==============================] - 1s 182us/step - loss: 0.1291 - acc: 0.9593 - val_loss: 0.4452 - val_acc: 0.8855\n",
      "Epoch 18/100\n",
      "4418/4418 [==============================] - 1s 179us/step - loss: 0.1450 - acc: 0.9554 - val_loss: 0.5737 - val_acc: 0.8945\n",
      "Epoch 19/100\n",
      "4418/4418 [==============================] - 1s 179us/step - loss: 0.1421 - acc: 0.9552 - val_loss: 0.5155 - val_acc: 0.8816\n",
      "Epoch 20/100\n",
      "4418/4418 [==============================] - 1s 179us/step - loss: 0.1379 - acc: 0.9565 - val_loss: 0.5764 - val_acc: 0.8829\n",
      "Epoch 00020: early stopping\n"
     ]
    }
   ],
   "source": [
    "model.compile(loss='categorical_crossentropy', optimizer=optimizer, metrics=['accuracy'])\n",
    "model_info = model.fit(X_train, y_train, batch_size=32, nb_epoch=EPOCHS, validation_data=(X_valid, y_valid), callbacks=callbacks_list)"
   ]
  },
  {
   "cell_type": "code",
   "execution_count": 20,
   "metadata": {
    "scrolled": true
   },
   "outputs": [
    {
     "data": {
      "image/png": "[encoded data removed]",
      "text/plain": [
       "<Figure size 1080x360 with 2 Axes>"
      ]
     },
     "metadata": {},
     "output_type": "display_data"
    }
   ],
   "source": [
    "plot_model_history(model_info)"
   ]
  },
  {
   "cell_type": "code",
   "execution_count": 21,
   "metadata": {},
   "outputs": [
    {
     "data": {
      "text/plain": [
       "0.9202185792349726"
      ]
     },
     "execution_count": 21,
     "metadata": {},
     "output_type": "execute_result"
    }
   ],
   "source": [
    "from sklearn.metrics import accuracy_score\n",
    "result = model.predict(X_test)\n",
    "accuracy_score(np.argmax(y_test, axis=1), np.argmax(result, axis=1))\n",
    "\n",
    "# print('predicted', np.argmax(result, axis=1))\n",
    "# print('actual', np.argmax(y_test, axis=1))"
   ]
  },
  {
   "cell_type": "code",
   "execution_count": 22,
   "metadata": {
    "scrolled": false
   },
   "outputs": [
    {
     "data": {
      "text/plain": [
       "array([[0.97, 0.01, 0.  , 0.01, 0.  , 0.01],\n",
       "       [0.  , 0.97, 0.  , 0.01, 0.02, 0.  ],\n",
       "       [0.01, 0.  , 0.9 , 0.01, 0.02, 0.07],\n",
       "       [0.01, 0.  , 0.  , 0.85, 0.01, 0.13],\n",
       "       [0.  , 0.09, 0.01, 0.  , 0.84, 0.07],\n",
       "       [0.  , 0.02, 0.  , 0.01, 0.01, 0.96]])"
      ]
     },
     "execution_count": 22,
     "metadata": {},
     "output_type": "execute_result"
    }
   ],
   "source": [
    "cm = confusion_matrix(np.argmax(y_test, axis=1), np.argmax(result, axis=1))\n",
    "cm = cm.astype('float') / cm.sum(axis=1)[:, np.newaxis]\n",
    "cm = cm.round(2)\n",
    "cm"
   ]
  },
  {
   "cell_type": "code",
   "execution_count": 23,
   "metadata": {},
   "outputs": [
    {
     "data": {
      "text/plain": [
       "<matplotlib.axes._subplots.AxesSubplot at 0x22418871780>"
      ]
     },
     "execution_count": 23,
     "metadata": {},
     "output_type": "execute_result"
    },
    {
     "data": {
      "image/png": "[encoded data removed]",
      "text/plain": [
       "<Figure size 720x504 with 2 Axes>"
      ]
     },
     "metadata": {},
     "output_type": "display_data"
    }
   ],
   "source": [
    "\n",
    "df_cm = pd.DataFrame(cm, index = [i for i in classes],\n",
    "                  columns = [i for i in classes])\n",
    "plt.figure(figsize = (10,7))\n",
    "sn.heatmap(df_cm, annot=True, cmap='viridis', fmt='g')"
   ]
  },
  {
   "cell_type": "code",
   "execution_count": null,
   "metadata": {},
   "outputs": [],
   "source": []
  }
 ],
 "metadata": {
  "kernelspec": {
   "display_name": "Python 3",
   "language": "python",
   "name": "python3"
  },
  "language_info": {
   "codemirror_mode": {
    "name": "ipython",
    "version": 3
   },
   "file_extension": ".py",
   "mimetype": "text/x-python",
   "name": "python",
   "nbconvert_exporter": "python",
   "pygments_lexer": "ipython3",
   "version": "3.5.5"
  }
 },
 "nbformat": 4,
 "nbformat_minor": 2
}
